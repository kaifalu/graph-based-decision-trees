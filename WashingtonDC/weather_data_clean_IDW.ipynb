{
 "cells": [
  {
   "cell_type": "code",
   "execution_count": 10,
   "id": "8d7f8efc",
   "metadata": {},
   "outputs": [],
   "source": [
    "import pandas as pd\n",
    "import numpy as np\n",
    "import datetime\n",
    "from shapely.geometry import Point"
   ]
  },
  {
   "cell_type": "code",
   "execution_count": 7,
   "id": "32d917b4",
   "metadata": {
    "scrolled": true
   },
   "outputs": [],
   "source": [
    "def weather_clean(weather_2019):\n",
    "    # Datetime format\n",
    "    weather_2019['Datetime'] = pd.to_datetime(weather_2019['Date'] + \" \" + weather_2019['Time'])\n",
    "    weather_2019 = weather_2019.drop(columns = {'Date', 'Time', 'Wind Gust'}, axis = 1)\n",
    "    # process error data, i.e., temp = 0, convert it into nan\n",
    "    weather_2019.loc[weather_2019['Temperature'] == 0, 'Temperature'] = np.nan\n",
    "    weather_2019.loc[weather_2019['Temperature'] == 0, 'Dew Point'] = np.nan\n",
    "    weather_2019.loc[weather_2019['Temperature'] == 0, 'Humidity'] = np.nan\n",
    "    weather_2019.loc[weather_2019['Temperature'] == 0, 'Wind Speed'] = np.nan\n",
    "    weather_2019.loc[weather_2019['Temperature'] == 0, 'Pressure'] = np.nan\n",
    "    weather_2019.loc[weather_2019['Temperature'] == 0, 'Precip.'] = np.nan\n",
    "    # process temperature data from F to C\n",
    "    weather_2019['Temperature'] = (weather_2019['Temperature'] - 32) / 1.8\n",
    "    weather_2019['Dew Point'] = (weather_2019['Dew Point'] - 32) / 1.8\n",
    "    # assign numeric value to wind direction\n",
    "    wd_text = ['N', 'NNE', 'NE', 'ENE', 'E', 'ESE', 'SE', 'SSE', 'S', 'SSW', 'SW', 'WSW', 'W', 'WNW', 'NW', 'NNW', 'VAR', 'CALM']\n",
    "    wd_num = [0, 22.5, 45, 67.5, 90,  112.5, 135, 157.5, 180, 202.5, 225, 247.5, 270, 292.5, 315, 337.5, 0, 0, 0]\n",
    "    for i in range (len(wd_text)):\n",
    "        weather_2019.loc[weather_2019['Wind'] == wd_text[i], 'Wind'] = wd_num[i]\n",
    "    # standard time data for each hour\n",
    "    month_num = [31, 28, 31, 30, 31, 30, 31, 31, 30, 31, 30, 31]\n",
    "    weather_data_arr = [[], [], [], [], [], [], [], [], []]\n",
    "    for month_index in range (1, 13):\n",
    "        for mm in range(1, month_num[month_index - 1] + 1):\n",
    "            for nn in range (24):\n",
    "                start_date = datetime.datetime(2019, month_index, mm, nn)\n",
    "                end_date = start_date + datetime.timedelta(hours = 1)\n",
    "                weather_data = weather_2019.loc[(weather_2019['Datetime'] >= start_date) & (weather_2019['Datetime'] <= end_date)]\n",
    "                weather_data_arr[0].append(start_date)\n",
    "                weather_data_arr[1].append(weather_data['Temperature'].mean())\n",
    "                weather_data_arr[2].append(weather_data['Dew Point'].mean())\n",
    "                weather_data_arr[3].append(weather_data['Humidity'].mean())\n",
    "                if weather_data.empty:\n",
    "                    weather_data_arr[4].append(weather_data['Temperature'].mean())\n",
    "                    weather_data_arr[8].append(weather_data['Temperature'].mean())\n",
    "                else:\n",
    "                    weather_data_arr[4].append(weather_data['Wind'].iloc[0])\n",
    "                    weather_data_arr[8].append(weather_data['Condition'].iloc[0])\n",
    "                weather_data_arr[5].append(weather_data['Wind Speed'].mean())\n",
    "                weather_data_arr[6].append(weather_data['Pressure'].mean())\n",
    "                weather_data_arr[7].append(weather_data['Precip.'].mean())\n",
    "    # output final dataframe\n",
    "    weather_data_2019 = pd.DataFrame({'Datetime': weather_data_arr[0],\n",
    "                                  'Temp': weather_data_arr[1],\n",
    "                                  'Dew_Point': weather_data_arr[2],\n",
    "                                  'Humidity': weather_data_arr[3],\n",
    "                                  'WD': weather_data_arr[4],\n",
    "                                  'WS': weather_data_arr[5],\n",
    "                                  'Pressure': weather_data_arr[6],\n",
    "                                  'Precipitation': weather_data_arr[7],\n",
    "                                  'Condition': weather_data_arr[8]})\n",
    "    return weather_data_2019"
   ]
  },
  {
   "cell_type": "code",
   "execution_count": 9,
   "id": "c467b3d4",
   "metadata": {},
   "outputs": [],
   "source": [
    "weather_DCA_2019 = weather_clean(pd.read_csv(\"Data/Weather_DCA_2019.csv\"))\n",
    "weather_CGS_2019 = weather_clean(pd.read_csv(\"Data/Weather_CGS_2019.csv\"))\n",
    "weather_ADW_2019 = weather_clean(pd.read_csv(\"Data/Weather_ADW_2019.csv\"))\n",
    "weather_IAD_2019 = weather_clean(pd.read_csv(\"Data/Weather_IAD_2019.csv\"))"
   ]
  },
  {
   "cell_type": "code",
   "execution_count": 12,
   "id": "6a0af272",
   "metadata": {},
   "outputs": [
    {
     "data": {
      "text/html": [
       "<div>\n",
       "<style scoped>\n",
       "    .dataframe tbody tr th:only-of-type {\n",
       "        vertical-align: middle;\n",
       "    }\n",
       "\n",
       "    .dataframe tbody tr th {\n",
       "        vertical-align: top;\n",
       "    }\n",
       "\n",
       "    .dataframe thead th {\n",
       "        text-align: right;\n",
       "    }\n",
       "</style>\n",
       "<table border=\"1\" class=\"dataframe\">\n",
       "  <thead>\n",
       "    <tr style=\"text-align: right;\">\n",
       "      <th></th>\n",
       "      <th>Name</th>\n",
       "      <th>lat</th>\n",
       "      <th>lon</th>\n",
       "      <th>geometry</th>\n",
       "    </tr>\n",
       "  </thead>\n",
       "  <tbody>\n",
       "    <tr>\n",
       "      <th>0</th>\n",
       "      <td>DCA</td>\n",
       "      <td>38.8512</td>\n",
       "      <td>-77.0402</td>\n",
       "      <td>POINT (-77.0402 38.8512)</td>\n",
       "    </tr>\n",
       "    <tr>\n",
       "      <th>1</th>\n",
       "      <td>CGS</td>\n",
       "      <td>38.9805</td>\n",
       "      <td>-76.9223</td>\n",
       "      <td>POINT (-76.9223 38.9805)</td>\n",
       "    </tr>\n",
       "    <tr>\n",
       "      <th>2</th>\n",
       "      <td>ADW</td>\n",
       "      <td>38.8108</td>\n",
       "      <td>-76.8664</td>\n",
       "      <td>POINT (-76.8664 38.8108)</td>\n",
       "    </tr>\n",
       "    <tr>\n",
       "      <th>3</th>\n",
       "      <td>IAD</td>\n",
       "      <td>38.9531</td>\n",
       "      <td>-77.4565</td>\n",
       "      <td>POINT (-77.4565 38.9531)</td>\n",
       "    </tr>\n",
       "  </tbody>\n",
       "</table>\n",
       "</div>"
      ],
      "text/plain": [
       "  Name      lat      lon                  geometry\n",
       "0  DCA  38.8512 -77.0402  POINT (-77.0402 38.8512)\n",
       "1  CGS  38.9805 -76.9223  POINT (-76.9223 38.9805)\n",
       "2  ADW  38.8108 -76.8664  POINT (-76.8664 38.8108)\n",
       "3  IAD  38.9531 -77.4565  POINT (-77.4565 38.9531)"
      ]
     },
     "execution_count": 12,
     "metadata": {},
     "output_type": "execute_result"
    }
   ],
   "source": [
    "weather_station_info = pd.DataFrame({'Name': ['DCA', 'CGS', 'ADW', 'IAD'],\n",
    "                                     'lat': [38.8512, 38.9805, 38.8108, 38.9531],\n",
    "                                     'lon': [-77.0402, -76.9223, -76.8664, -77.4565]})\n",
    "weather_station_info['geometry'] = weather_station_info[['lon', 'lat']].values.tolist()\n",
    "weather_station_info['geometry'] = weather_station_info['geometry'].apply(Point)\n",
    "weather_station_info"
   ]
  },
  {
   "cell_type": "code",
   "execution_count": null,
   "id": "436b5d1a",
   "metadata": {},
   "outputs": [],
   "source": []
  }
 ],
 "metadata": {
  "kernelspec": {
   "display_name": "Python 3 (ipykernel)",
   "language": "python",
   "name": "python3"
  },
  "language_info": {
   "codemirror_mode": {
    "name": "ipython",
    "version": 3
   },
   "file_extension": ".py",
   "mimetype": "text/x-python",
   "name": "python",
   "nbconvert_exporter": "python",
   "pygments_lexer": "ipython3",
   "version": "3.9.12"
  }
 },
 "nbformat": 4,
 "nbformat_minor": 5
}
