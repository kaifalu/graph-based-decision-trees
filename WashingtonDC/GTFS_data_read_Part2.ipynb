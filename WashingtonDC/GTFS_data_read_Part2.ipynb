{
 "cells": [
  {
   "cell_type": "code",
   "execution_count": 1,
   "id": "f3306f79",
   "metadata": {},
   "outputs": [],
   "source": [
    "# Import packages\n",
    "import pandas as pd\n",
    "import geopandas as gpd\n",
    "import numpy as np\n",
    "import matplotlib.pyplot as plt\n",
    "import matplotlib\n",
    "from mpl_toolkits.axes_grid1 import make_axes_locatable\n",
    "import seaborn as sns\n",
    "import datetime\n",
    "from datetime import datetime, timedelta\n",
    "from shapely.geometry import Point\n",
    "from shapely.geometry import shape\n",
    "from statsmodels.tsa.arima.model import ARIMA\n",
    "from keras.models import Sequential\n",
    "from keras.layers import Dense\n",
    "import xgboost as xgb\n",
    "import math\n",
    "from sklearn.linear_model import LinearRegression\n",
    "from sklearn.metrics import mean_squared_error, r2_score\n",
    "from sklearn.model_selection import train_test_split\n",
    "from sklearn.preprocessing import normalize, MinMaxScaler\n",
    "import libpysal as ps\n",
    "from spreg import GM_Lag\n",
    "from sklearn.linear_model import LassoCV\n",
    "import statsmodels.api as sm\n",
    "import os\n",
    "from zipfile import ZipFile\n",
    "import random\n",
    "import networkx as nx\n",
    "import warnings"
   ]
  },
  {
   "cell_type": "code",
   "execution_count": 2,
   "id": "81efae93",
   "metadata": {},
   "outputs": [
    {
     "name": "stdout",
     "output_type": "stream",
     "text": [
      "77\n",
      "78\n",
      "79\n",
      "80\n",
      "81\n",
      "82\n",
      "83\n",
      "84\n",
      "85\n",
      "86\n",
      "87\n",
      "88\n",
      "89\n",
      "90\n",
      "91\n",
      "92\n",
      "93\n",
      "94\n",
      "95\n",
      "96\n",
      "97\n",
      "98\n",
      "99\n",
      "100\n",
      "101\n",
      "102\n",
      "103\n",
      "104\n",
      "105\n",
      "106\n",
      "107\n",
      "108\n",
      "109\n",
      "110\n",
      "111\n",
      "112\n",
      "113\n",
      "114\n",
      "115\n",
      "116\n",
      "117\n",
      "118\n",
      "119\n",
      "120\n",
      "121\n",
      "122\n",
      "123\n",
      "124\n",
      "125\n",
      "126\n",
      "127\n",
      "128\n",
      "129\n",
      "130\n",
      "131\n",
      "132\n",
      "133\n",
      "134\n",
      "135\n",
      "136\n",
      "137\n",
      "138\n",
      "139\n",
      "140\n"
     ]
    },
    {
     "name": "stderr",
     "output_type": "stream",
     "text": [
      "C:\\Users\\Kaifa Lu\\AppData\\Local\\Temp\\ipykernel_19344\\2923150327.py:32: DtypeWarning: Columns (2) have mixed types. Specify dtype option on import or set low_memory=False.\n",
      "  trips = pd.read_csv(archive.open('trips.txt'))\n",
      "C:\\Users\\Kaifa Lu\\AppData\\Local\\Temp\\ipykernel_19344\\2923150327.py:43: DtypeWarning: Columns (0) have mixed types. Specify dtype option on import or set low_memory=False.\n",
      "  stops_time = pd.read_csv(archive.open('stop_times.txt'))\n"
     ]
    },
    {
     "name": "stdout",
     "output_type": "stream",
     "text": [
      "141\n"
     ]
    },
    {
     "name": "stderr",
     "output_type": "stream",
     "text": [
      "C:\\Users\\Kaifa Lu\\AppData\\Local\\Temp\\ipykernel_19344\\2923150327.py:32: DtypeWarning: Columns (2) have mixed types. Specify dtype option on import or set low_memory=False.\n",
      "  trips = pd.read_csv(archive.open('trips.txt'))\n",
      "C:\\Users\\Kaifa Lu\\AppData\\Local\\Temp\\ipykernel_19344\\2923150327.py:43: DtypeWarning: Columns (0) have mixed types. Specify dtype option on import or set low_memory=False.\n",
      "  stops_time = pd.read_csv(archive.open('stop_times.txt'))\n"
     ]
    },
    {
     "name": "stdout",
     "output_type": "stream",
     "text": [
      "142\n"
     ]
    },
    {
     "name": "stderr",
     "output_type": "stream",
     "text": [
      "C:\\Users\\Kaifa Lu\\AppData\\Local\\Temp\\ipykernel_19344\\2923150327.py:32: DtypeWarning: Columns (2) have mixed types. Specify dtype option on import or set low_memory=False.\n",
      "  trips = pd.read_csv(archive.open('trips.txt'))\n",
      "C:\\Users\\Kaifa Lu\\AppData\\Local\\Temp\\ipykernel_19344\\2923150327.py:43: DtypeWarning: Columns (0) have mixed types. Specify dtype option on import or set low_memory=False.\n",
      "  stops_time = pd.read_csv(archive.open('stop_times.txt'))\n"
     ]
    },
    {
     "name": "stdout",
     "output_type": "stream",
     "text": [
      "143\n"
     ]
    },
    {
     "name": "stderr",
     "output_type": "stream",
     "text": [
      "C:\\Users\\Kaifa Lu\\AppData\\Local\\Temp\\ipykernel_19344\\2923150327.py:32: DtypeWarning: Columns (2) have mixed types. Specify dtype option on import or set low_memory=False.\n",
      "  trips = pd.read_csv(archive.open('trips.txt'))\n",
      "C:\\Users\\Kaifa Lu\\AppData\\Local\\Temp\\ipykernel_19344\\2923150327.py:43: DtypeWarning: Columns (0) have mixed types. Specify dtype option on import or set low_memory=False.\n",
      "  stops_time = pd.read_csv(archive.open('stop_times.txt'))\n"
     ]
    },
    {
     "name": "stdout",
     "output_type": "stream",
     "text": [
      "144\n"
     ]
    },
    {
     "name": "stderr",
     "output_type": "stream",
     "text": [
      "C:\\Users\\Kaifa Lu\\AppData\\Local\\Temp\\ipykernel_19344\\2923150327.py:32: DtypeWarning: Columns (2) have mixed types. Specify dtype option on import or set low_memory=False.\n",
      "  trips = pd.read_csv(archive.open('trips.txt'))\n",
      "C:\\Users\\Kaifa Lu\\AppData\\Local\\Temp\\ipykernel_19344\\2923150327.py:43: DtypeWarning: Columns (0) have mixed types. Specify dtype option on import or set low_memory=False.\n",
      "  stops_time = pd.read_csv(archive.open('stop_times.txt'))\n"
     ]
    },
    {
     "name": "stdout",
     "output_type": "stream",
     "text": [
      "145\n"
     ]
    },
    {
     "name": "stderr",
     "output_type": "stream",
     "text": [
      "C:\\Users\\Kaifa Lu\\AppData\\Local\\Temp\\ipykernel_19344\\2923150327.py:32: DtypeWarning: Columns (2) have mixed types. Specify dtype option on import or set low_memory=False.\n",
      "  trips = pd.read_csv(archive.open('trips.txt'))\n",
      "C:\\Users\\Kaifa Lu\\AppData\\Local\\Temp\\ipykernel_19344\\2923150327.py:43: DtypeWarning: Columns (0) have mixed types. Specify dtype option on import or set low_memory=False.\n",
      "  stops_time = pd.read_csv(archive.open('stop_times.txt'))\n"
     ]
    },
    {
     "name": "stdout",
     "output_type": "stream",
     "text": [
      "146\n"
     ]
    },
    {
     "name": "stderr",
     "output_type": "stream",
     "text": [
      "C:\\Users\\Kaifa Lu\\AppData\\Local\\Temp\\ipykernel_19344\\2923150327.py:32: DtypeWarning: Columns (2) have mixed types. Specify dtype option on import or set low_memory=False.\n",
      "  trips = pd.read_csv(archive.open('trips.txt'))\n",
      "C:\\Users\\Kaifa Lu\\AppData\\Local\\Temp\\ipykernel_19344\\2923150327.py:43: DtypeWarning: Columns (0) have mixed types. Specify dtype option on import or set low_memory=False.\n",
      "  stops_time = pd.read_csv(archive.open('stop_times.txt'))\n"
     ]
    },
    {
     "name": "stdout",
     "output_type": "stream",
     "text": [
      "147\n"
     ]
    },
    {
     "name": "stderr",
     "output_type": "stream",
     "text": [
      "C:\\Users\\Kaifa Lu\\AppData\\Local\\Temp\\ipykernel_19344\\2923150327.py:32: DtypeWarning: Columns (2) have mixed types. Specify dtype option on import or set low_memory=False.\n",
      "  trips = pd.read_csv(archive.open('trips.txt'))\n",
      "C:\\Users\\Kaifa Lu\\AppData\\Local\\Temp\\ipykernel_19344\\2923150327.py:43: DtypeWarning: Columns (0) have mixed types. Specify dtype option on import or set low_memory=False.\n",
      "  stops_time = pd.read_csv(archive.open('stop_times.txt'))\n"
     ]
    },
    {
     "name": "stdout",
     "output_type": "stream",
     "text": [
      "148\n"
     ]
    },
    {
     "name": "stderr",
     "output_type": "stream",
     "text": [
      "C:\\Users\\Kaifa Lu\\AppData\\Local\\Temp\\ipykernel_19344\\2923150327.py:32: DtypeWarning: Columns (2) have mixed types. Specify dtype option on import or set low_memory=False.\n",
      "  trips = pd.read_csv(archive.open('trips.txt'))\n",
      "C:\\Users\\Kaifa Lu\\AppData\\Local\\Temp\\ipykernel_19344\\2923150327.py:43: DtypeWarning: Columns (0) have mixed types. Specify dtype option on import or set low_memory=False.\n",
      "  stops_time = pd.read_csv(archive.open('stop_times.txt'))\n"
     ]
    },
    {
     "name": "stdout",
     "output_type": "stream",
     "text": [
      "149\n"
     ]
    },
    {
     "name": "stderr",
     "output_type": "stream",
     "text": [
      "C:\\Users\\Kaifa Lu\\AppData\\Local\\Temp\\ipykernel_19344\\2923150327.py:32: DtypeWarning: Columns (2) have mixed types. Specify dtype option on import or set low_memory=False.\n",
      "  trips = pd.read_csv(archive.open('trips.txt'))\n",
      "C:\\Users\\Kaifa Lu\\AppData\\Local\\Temp\\ipykernel_19344\\2923150327.py:43: DtypeWarning: Columns (0) have mixed types. Specify dtype option on import or set low_memory=False.\n",
      "  stops_time = pd.read_csv(archive.open('stop_times.txt'))\n"
     ]
    },
    {
     "name": "stdout",
     "output_type": "stream",
     "text": [
      "150\n"
     ]
    },
    {
     "name": "stderr",
     "output_type": "stream",
     "text": [
      "C:\\Users\\Kaifa Lu\\AppData\\Local\\Temp\\ipykernel_19344\\2923150327.py:32: DtypeWarning: Columns (2) have mixed types. Specify dtype option on import or set low_memory=False.\n",
      "  trips = pd.read_csv(archive.open('trips.txt'))\n",
      "C:\\Users\\Kaifa Lu\\AppData\\Local\\Temp\\ipykernel_19344\\2923150327.py:43: DtypeWarning: Columns (0) have mixed types. Specify dtype option on import or set low_memory=False.\n",
      "  stops_time = pd.read_csv(archive.open('stop_times.txt'))\n"
     ]
    },
    {
     "name": "stdout",
     "output_type": "stream",
     "text": [
      "151\n"
     ]
    },
    {
     "name": "stderr",
     "output_type": "stream",
     "text": [
      "C:\\Users\\Kaifa Lu\\AppData\\Local\\Temp\\ipykernel_19344\\2923150327.py:32: DtypeWarning: Columns (2) have mixed types. Specify dtype option on import or set low_memory=False.\n",
      "  trips = pd.read_csv(archive.open('trips.txt'))\n",
      "C:\\Users\\Kaifa Lu\\AppData\\Local\\Temp\\ipykernel_19344\\2923150327.py:43: DtypeWarning: Columns (0) have mixed types. Specify dtype option on import or set low_memory=False.\n",
      "  stops_time = pd.read_csv(archive.open('stop_times.txt'))\n"
     ]
    },
    {
     "name": "stdout",
     "output_type": "stream",
     "text": [
      "152\n"
     ]
    },
    {
     "name": "stderr",
     "output_type": "stream",
     "text": [
      "C:\\Users\\Kaifa Lu\\AppData\\Local\\Temp\\ipykernel_19344\\2923150327.py:32: DtypeWarning: Columns (2) have mixed types. Specify dtype option on import or set low_memory=False.\n",
      "  trips = pd.read_csv(archive.open('trips.txt'))\n",
      "C:\\Users\\Kaifa Lu\\AppData\\Local\\Temp\\ipykernel_19344\\2923150327.py:43: DtypeWarning: Columns (0) have mixed types. Specify dtype option on import or set low_memory=False.\n",
      "  stops_time = pd.read_csv(archive.open('stop_times.txt'))\n"
     ]
    },
    {
     "name": "stdout",
     "output_type": "stream",
     "text": [
      "153\n",
      "132663906\n"
     ]
    },
    {
     "data": {
      "text/html": [
       "<div>\n",
       "<style scoped>\n",
       "    .dataframe tbody tr th:only-of-type {\n",
       "        vertical-align: middle;\n",
       "    }\n",
       "\n",
       "    .dataframe tbody tr th {\n",
       "        vertical-align: top;\n",
       "    }\n",
       "\n",
       "    .dataframe thead th {\n",
       "        text-align: right;\n",
       "    }\n",
       "</style>\n",
       "<table border=\"1\" class=\"dataframe\">\n",
       "  <thead>\n",
       "    <tr style=\"text-align: right;\">\n",
       "      <th></th>\n",
       "      <th>arrival_time</th>\n",
       "      <th>departure_time</th>\n",
       "      <th>stop_id</th>\n",
       "      <th>stop_lat</th>\n",
       "      <th>stop_lon</th>\n",
       "      <th>geometry</th>\n",
       "    </tr>\n",
       "  </thead>\n",
       "  <tbody>\n",
       "    <tr>\n",
       "      <th>0</th>\n",
       "      <td>2019-04-03 06:58:06</td>\n",
       "      <td>2019-04-03 06:58:06</td>\n",
       "      <td>5570</td>\n",
       "      <td>38.886957</td>\n",
       "      <td>-77.031738</td>\n",
       "      <td>POINT (-77.031738 38.886957)</td>\n",
       "    </tr>\n",
       "    <tr>\n",
       "      <th>1</th>\n",
       "      <td>2019-04-03 06:58:54</td>\n",
       "      <td>2019-04-03 06:58:54</td>\n",
       "      <td>7718</td>\n",
       "      <td>38.888462</td>\n",
       "      <td>-77.031799</td>\n",
       "      <td>POINT (-77.031799 38.888462)</td>\n",
       "    </tr>\n",
       "    <tr>\n",
       "      <th>2</th>\n",
       "      <td>2019-04-03 07:01:24</td>\n",
       "      <td>2019-04-03 07:01:24</td>\n",
       "      <td>30097</td>\n",
       "      <td>38.894203</td>\n",
       "      <td>-77.031794</td>\n",
       "      <td>POINT (-77.031794 38.894203)</td>\n",
       "    </tr>\n",
       "    <tr>\n",
       "      <th>3</th>\n",
       "      <td>2019-04-03 07:02:12</td>\n",
       "      <td>2019-04-03 07:02:12</td>\n",
       "      <td>27264</td>\n",
       "      <td>38.895970</td>\n",
       "      <td>-77.031820</td>\n",
       "      <td>POINT (-77.03182 38.89597)</td>\n",
       "    </tr>\n",
       "    <tr>\n",
       "      <th>4</th>\n",
       "      <td>2019-04-03 07:02:48</td>\n",
       "      <td>2019-04-03 07:02:48</td>\n",
       "      <td>5249</td>\n",
       "      <td>38.897189</td>\n",
       "      <td>-77.031821</td>\n",
       "      <td>POINT (-77.031821 38.897189)</td>\n",
       "    </tr>\n",
       "  </tbody>\n",
       "</table>\n",
       "</div>"
      ],
      "text/plain": [
       "         arrival_time      departure_time  stop_id   stop_lat   stop_lon  \\\n",
       "0 2019-04-03 06:58:06 2019-04-03 06:58:06     5570  38.886957 -77.031738   \n",
       "1 2019-04-03 06:58:54 2019-04-03 06:58:54     7718  38.888462 -77.031799   \n",
       "2 2019-04-03 07:01:24 2019-04-03 07:01:24    30097  38.894203 -77.031794   \n",
       "3 2019-04-03 07:02:12 2019-04-03 07:02:12    27264  38.895970 -77.031820   \n",
       "4 2019-04-03 07:02:48 2019-04-03 07:02:48     5249  38.897189 -77.031821   \n",
       "\n",
       "                       geometry  \n",
       "0  POINT (-77.031738 38.886957)  \n",
       "1  POINT (-77.031799 38.888462)  \n",
       "2  POINT (-77.031794 38.894203)  \n",
       "3    POINT (-77.03182 38.89597)  \n",
       "4  POINT (-77.031821 38.897189)  "
      ]
     },
     "execution_count": 2,
     "metadata": {},
     "output_type": "execute_result"
    }
   ],
   "source": [
    "# Open the zip file in read-only mode.\n",
    "\n",
    "DC_boundary = gpd.read_file('Data/Shapefile/Washington_DC_Boundary.geojson')\n",
    "\n",
    "def update_datetime(row):\n",
    "    if int(row[11:13]) >= 24:\n",
    "        return datetime.strptime(row[:11] + str(int(row[11:13])%24) + row[13:], '%Y-%m-%d %H:%M:%S') + timedelta(days = int(row[11:13])//24) # Increment the day\n",
    "    else:\n",
    "        return datetime.strptime(row, '%Y-%m-%d %H:%M:%S')\n",
    "\n",
    "directory = \"Data/GTFS/\"\n",
    "file_paths = []\n",
    "# crawling through directory and subdirectories\n",
    "for root, directories, files in os.walk(directory):\n",
    "    for filename in files:\n",
    "        # join the two strings in order to form the full filepath.\n",
    "        filepath = os.path.join(root, filename)\n",
    "        file_paths.append(filepath)\n",
    "\n",
    "date_list = []\n",
    "for i in range (len(file_paths)):\n",
    "    # Extract the date from the file name\n",
    "    date_str = os.path.splitext(os.path.basename(file_paths[i]))[0].split('_')[1]\n",
    "    # Convert the date string to datetime object\n",
    "    date_obj = datetime.strptime(date_str, '%Y%m%d')\n",
    "    # Format the datetime object as 'YYYY-MM-DD'\n",
    "    date_list.append(date_obj.strftime('%Y-%m-%d') + ' ')\n",
    "\n",
    "transit_stops_info = []\n",
    "for i in range (77, 154):\n",
    "    archive = ZipFile(file_paths[i], \"r\")\n",
    "    trips = pd.read_csv(archive.open('trips.txt'))\n",
    "    stops = pd.read_csv(archive.open('stops.txt'))\n",
    "    ## add geometry for stops\n",
    "    stops['geometry'] = stops[['stop_lon', 'stop_lat']].values.tolist()\n",
    "    stops['geometry'] = stops['geometry'].apply(Point)\n",
    "    # select stops within DC\n",
    "    DC_stop_index = []\n",
    "    for j in range (len(stops)):\n",
    "        if stops.geometry[j].within(DC_boundary.geometry[0]):\n",
    "            DC_stop_index.append(j)\n",
    "    stops = stops.loc[DC_stop_index]\n",
    "    stops_time = pd.read_csv(archive.open('stop_times.txt'))\n",
    "    ## merge\n",
    "    transit_stops_time = stops_time.merge(stops, how = 'left', on = \"stop_id\")\n",
    "    transit_stops_time = transit_stops_time.merge(trips, how = 'left', on = \"trip_id\")\n",
    "    # select trip id within DC\n",
    "    transit_stops_time = transit_stops_time.iloc[np.isin(transit_stops_time['stop_id'], stops.stop_id.unique())]\n",
    "    # delete unnecessary columns\n",
    "    transit_stops_time = transit_stops_time.drop(columns = {\"trip_id\", \"stop_sequence\", \"pickup_type\", \"drop_off_type\", \"shape_dist_traveled\", \"route_id\", \"service_id\", \"stop_code\", \"stop_desc\", \"stop_name\", \"zone_id\", \"block_id\", \"scheduled_trip_id\", \"trip_headsign\", \"direction_id\", \"shape_id\"}, axis = 1)\n",
    "    # add date information for the dataframe\n",
    "    transit_stops_time.arrival_time = date_list[i] + transit_stops_time.arrival_time\n",
    "    transit_stops_time.departure_time = date_list[i] + transit_stops_time.departure_time\n",
    "    transit_stops_info.append(transit_stops_time)\n",
    "    print(i)\n",
    "\n",
    "transit_stops_info = pd.concat(transit_stops_info, ignore_index = True)\n",
    "transit_stops_info[\"arrival_time\"] = transit_stops_info[\"arrival_time\"].apply(update_datetime)\n",
    "transit_stops_info[\"arrival_time\"] = pd.to_datetime(transit_stops_info[\"arrival_time\"])\n",
    "transit_stops_info[\"departure_time\"] = transit_stops_info[\"departure_time\"].apply(update_datetime)\n",
    "transit_stops_info[\"departure_time\"] = pd.to_datetime(transit_stops_info[\"departure_time\"])\n",
    "print(len(transit_stops_info))\n",
    "transit_stops_info.head()"
   ]
  },
  {
   "cell_type": "code",
   "execution_count": 3,
   "id": "8cfdf0d6",
   "metadata": {},
   "outputs": [],
   "source": [
    "transit_stops_info.to_csv(\"Data/transit_stops_info_part2.csv\", index = False)"
   ]
  }
 ],
 "metadata": {
  "kernelspec": {
   "display_name": "Python 3 (ipykernel)",
   "language": "python",
   "name": "python3"
  },
  "language_info": {
   "codemirror_mode": {
    "name": "ipython",
    "version": 3
   },
   "file_extension": ".py",
   "mimetype": "text/x-python",
   "name": "python",
   "nbconvert_exporter": "python",
   "pygments_lexer": "ipython3",
   "version": "3.9.12"
  }
 },
 "nbformat": 4,
 "nbformat_minor": 5
}
