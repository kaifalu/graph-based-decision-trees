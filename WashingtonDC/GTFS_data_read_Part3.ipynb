{
 "cells": [
  {
   "cell_type": "code",
   "execution_count": 1,
   "id": "f3306f79",
   "metadata": {},
   "outputs": [],
   "source": [
    "# Import packages\n",
    "import pandas as pd\n",
    "import geopandas as gpd\n",
    "import numpy as np\n",
    "import matplotlib.pyplot as plt\n",
    "import matplotlib\n",
    "from mpl_toolkits.axes_grid1 import make_axes_locatable\n",
    "import seaborn as sns\n",
    "import datetime\n",
    "from datetime import datetime, timedelta\n",
    "from shapely.geometry import Point\n",
    "from shapely.geometry import shape\n",
    "from statsmodels.tsa.arima.model import ARIMA\n",
    "from keras.models import Sequential\n",
    "from keras.layers import Dense\n",
    "import xgboost as xgb\n",
    "import math\n",
    "from sklearn.linear_model import LinearRegression\n",
    "from sklearn.metrics import mean_squared_error, r2_score\n",
    "from sklearn.model_selection import train_test_split\n",
    "from sklearn.preprocessing import normalize, MinMaxScaler\n",
    "import libpysal as ps\n",
    "from spreg import GM_Lag\n",
    "from sklearn.linear_model import LassoCV\n",
    "import statsmodels.api as sm\n",
    "import os\n",
    "from zipfile import ZipFile\n",
    "import random\n",
    "import networkx as nx\n",
    "import warnings"
   ]
  },
  {
   "cell_type": "code",
   "execution_count": 2,
   "id": "81efae93",
   "metadata": {},
   "outputs": [
    {
     "name": "stderr",
     "output_type": "stream",
     "text": [
      "C:\\Users\\Kaifa Lu\\AppData\\Local\\Temp\\ipykernel_13148\\2280318006.py:32: DtypeWarning: Columns (2) have mixed types. Specify dtype option on import or set low_memory=False.\n",
      "  trips = pd.read_csv(archive.open('trips.txt'))\n",
      "C:\\Users\\Kaifa Lu\\AppData\\Local\\Temp\\ipykernel_13148\\2280318006.py:43: DtypeWarning: Columns (0) have mixed types. Specify dtype option on import or set low_memory=False.\n",
      "  stops_time = pd.read_csv(archive.open('stop_times.txt'))\n"
     ]
    },
    {
     "name": "stdout",
     "output_type": "stream",
     "text": [
      "154\n"
     ]
    },
    {
     "name": "stderr",
     "output_type": "stream",
     "text": [
      "C:\\Users\\Kaifa Lu\\AppData\\Local\\Temp\\ipykernel_13148\\2280318006.py:32: DtypeWarning: Columns (2) have mixed types. Specify dtype option on import or set low_memory=False.\n",
      "  trips = pd.read_csv(archive.open('trips.txt'))\n",
      "C:\\Users\\Kaifa Lu\\AppData\\Local\\Temp\\ipykernel_13148\\2280318006.py:43: DtypeWarning: Columns (0) have mixed types. Specify dtype option on import or set low_memory=False.\n",
      "  stops_time = pd.read_csv(archive.open('stop_times.txt'))\n"
     ]
    },
    {
     "name": "stdout",
     "output_type": "stream",
     "text": [
      "155\n"
     ]
    },
    {
     "name": "stderr",
     "output_type": "stream",
     "text": [
      "C:\\Users\\Kaifa Lu\\AppData\\Local\\Temp\\ipykernel_13148\\2280318006.py:32: DtypeWarning: Columns (2) have mixed types. Specify dtype option on import or set low_memory=False.\n",
      "  trips = pd.read_csv(archive.open('trips.txt'))\n",
      "C:\\Users\\Kaifa Lu\\AppData\\Local\\Temp\\ipykernel_13148\\2280318006.py:43: DtypeWarning: Columns (0) have mixed types. Specify dtype option on import or set low_memory=False.\n",
      "  stops_time = pd.read_csv(archive.open('stop_times.txt'))\n"
     ]
    },
    {
     "name": "stdout",
     "output_type": "stream",
     "text": [
      "156\n"
     ]
    },
    {
     "name": "stderr",
     "output_type": "stream",
     "text": [
      "C:\\Users\\Kaifa Lu\\AppData\\Local\\Temp\\ipykernel_13148\\2280318006.py:32: DtypeWarning: Columns (2) have mixed types. Specify dtype option on import or set low_memory=False.\n",
      "  trips = pd.read_csv(archive.open('trips.txt'))\n",
      "C:\\Users\\Kaifa Lu\\AppData\\Local\\Temp\\ipykernel_13148\\2280318006.py:43: DtypeWarning: Columns (0) have mixed types. Specify dtype option on import or set low_memory=False.\n",
      "  stops_time = pd.read_csv(archive.open('stop_times.txt'))\n"
     ]
    },
    {
     "name": "stdout",
     "output_type": "stream",
     "text": [
      "157\n"
     ]
    },
    {
     "name": "stderr",
     "output_type": "stream",
     "text": [
      "C:\\Users\\Kaifa Lu\\AppData\\Local\\Temp\\ipykernel_13148\\2280318006.py:32: DtypeWarning: Columns (2) have mixed types. Specify dtype option on import or set low_memory=False.\n",
      "  trips = pd.read_csv(archive.open('trips.txt'))\n",
      "C:\\Users\\Kaifa Lu\\AppData\\Local\\Temp\\ipykernel_13148\\2280318006.py:43: DtypeWarning: Columns (0) have mixed types. Specify dtype option on import or set low_memory=False.\n",
      "  stops_time = pd.read_csv(archive.open('stop_times.txt'))\n"
     ]
    },
    {
     "name": "stdout",
     "output_type": "stream",
     "text": [
      "158\n"
     ]
    },
    {
     "name": "stderr",
     "output_type": "stream",
     "text": [
      "C:\\Users\\Kaifa Lu\\AppData\\Local\\Temp\\ipykernel_13148\\2280318006.py:32: DtypeWarning: Columns (2) have mixed types. Specify dtype option on import or set low_memory=False.\n",
      "  trips = pd.read_csv(archive.open('trips.txt'))\n",
      "C:\\Users\\Kaifa Lu\\AppData\\Local\\Temp\\ipykernel_13148\\2280318006.py:43: DtypeWarning: Columns (0) have mixed types. Specify dtype option on import or set low_memory=False.\n",
      "  stops_time = pd.read_csv(archive.open('stop_times.txt'))\n"
     ]
    },
    {
     "name": "stdout",
     "output_type": "stream",
     "text": [
      "159\n"
     ]
    },
    {
     "name": "stderr",
     "output_type": "stream",
     "text": [
      "C:\\Users\\Kaifa Lu\\AppData\\Local\\Temp\\ipykernel_13148\\2280318006.py:32: DtypeWarning: Columns (2) have mixed types. Specify dtype option on import or set low_memory=False.\n",
      "  trips = pd.read_csv(archive.open('trips.txt'))\n",
      "C:\\Users\\Kaifa Lu\\AppData\\Local\\Temp\\ipykernel_13148\\2280318006.py:43: DtypeWarning: Columns (0) have mixed types. Specify dtype option on import or set low_memory=False.\n",
      "  stops_time = pd.read_csv(archive.open('stop_times.txt'))\n"
     ]
    },
    {
     "name": "stdout",
     "output_type": "stream",
     "text": [
      "160\n"
     ]
    },
    {
     "name": "stderr",
     "output_type": "stream",
     "text": [
      "C:\\Users\\Kaifa Lu\\AppData\\Local\\Temp\\ipykernel_13148\\2280318006.py:32: DtypeWarning: Columns (2) have mixed types. Specify dtype option on import or set low_memory=False.\n",
      "  trips = pd.read_csv(archive.open('trips.txt'))\n",
      "C:\\Users\\Kaifa Lu\\AppData\\Local\\Temp\\ipykernel_13148\\2280318006.py:43: DtypeWarning: Columns (0) have mixed types. Specify dtype option on import or set low_memory=False.\n",
      "  stops_time = pd.read_csv(archive.open('stop_times.txt'))\n"
     ]
    },
    {
     "name": "stdout",
     "output_type": "stream",
     "text": [
      "161\n"
     ]
    },
    {
     "name": "stderr",
     "output_type": "stream",
     "text": [
      "C:\\Users\\Kaifa Lu\\AppData\\Local\\Temp\\ipykernel_13148\\2280318006.py:32: DtypeWarning: Columns (2) have mixed types. Specify dtype option on import or set low_memory=False.\n",
      "  trips = pd.read_csv(archive.open('trips.txt'))\n",
      "C:\\Users\\Kaifa Lu\\AppData\\Local\\Temp\\ipykernel_13148\\2280318006.py:43: DtypeWarning: Columns (0) have mixed types. Specify dtype option on import or set low_memory=False.\n",
      "  stops_time = pd.read_csv(archive.open('stop_times.txt'))\n"
     ]
    },
    {
     "name": "stdout",
     "output_type": "stream",
     "text": [
      "162\n"
     ]
    },
    {
     "name": "stderr",
     "output_type": "stream",
     "text": [
      "C:\\Users\\Kaifa Lu\\AppData\\Local\\Temp\\ipykernel_13148\\2280318006.py:32: DtypeWarning: Columns (2) have mixed types. Specify dtype option on import or set low_memory=False.\n",
      "  trips = pd.read_csv(archive.open('trips.txt'))\n",
      "C:\\Users\\Kaifa Lu\\AppData\\Local\\Temp\\ipykernel_13148\\2280318006.py:43: DtypeWarning: Columns (0) have mixed types. Specify dtype option on import or set low_memory=False.\n",
      "  stops_time = pd.read_csv(archive.open('stop_times.txt'))\n"
     ]
    },
    {
     "name": "stdout",
     "output_type": "stream",
     "text": [
      "163\n"
     ]
    },
    {
     "name": "stderr",
     "output_type": "stream",
     "text": [
      "C:\\Users\\Kaifa Lu\\AppData\\Local\\Temp\\ipykernel_13148\\2280318006.py:32: DtypeWarning: Columns (2) have mixed types. Specify dtype option on import or set low_memory=False.\n",
      "  trips = pd.read_csv(archive.open('trips.txt'))\n",
      "C:\\Users\\Kaifa Lu\\AppData\\Local\\Temp\\ipykernel_13148\\2280318006.py:43: DtypeWarning: Columns (0) have mixed types. Specify dtype option on import or set low_memory=False.\n",
      "  stops_time = pd.read_csv(archive.open('stop_times.txt'))\n"
     ]
    },
    {
     "name": "stdout",
     "output_type": "stream",
     "text": [
      "164\n"
     ]
    },
    {
     "name": "stderr",
     "output_type": "stream",
     "text": [
      "C:\\Users\\Kaifa Lu\\AppData\\Local\\Temp\\ipykernel_13148\\2280318006.py:32: DtypeWarning: Columns (2) have mixed types. Specify dtype option on import or set low_memory=False.\n",
      "  trips = pd.read_csv(archive.open('trips.txt'))\n",
      "C:\\Users\\Kaifa Lu\\AppData\\Local\\Temp\\ipykernel_13148\\2280318006.py:43: DtypeWarning: Columns (0) have mixed types. Specify dtype option on import or set low_memory=False.\n",
      "  stops_time = pd.read_csv(archive.open('stop_times.txt'))\n"
     ]
    },
    {
     "name": "stdout",
     "output_type": "stream",
     "text": [
      "165\n"
     ]
    },
    {
     "name": "stderr",
     "output_type": "stream",
     "text": [
      "C:\\Users\\Kaifa Lu\\AppData\\Local\\Temp\\ipykernel_13148\\2280318006.py:32: DtypeWarning: Columns (2) have mixed types. Specify dtype option on import or set low_memory=False.\n",
      "  trips = pd.read_csv(archive.open('trips.txt'))\n",
      "C:\\Users\\Kaifa Lu\\AppData\\Local\\Temp\\ipykernel_13148\\2280318006.py:43: DtypeWarning: Columns (0) have mixed types. Specify dtype option on import or set low_memory=False.\n",
      "  stops_time = pd.read_csv(archive.open('stop_times.txt'))\n"
     ]
    },
    {
     "name": "stdout",
     "output_type": "stream",
     "text": [
      "166\n"
     ]
    },
    {
     "name": "stderr",
     "output_type": "stream",
     "text": [
      "C:\\Users\\Kaifa Lu\\AppData\\Local\\Temp\\ipykernel_13148\\2280318006.py:32: DtypeWarning: Columns (2) have mixed types. Specify dtype option on import or set low_memory=False.\n",
      "  trips = pd.read_csv(archive.open('trips.txt'))\n",
      "C:\\Users\\Kaifa Lu\\AppData\\Local\\Temp\\ipykernel_13148\\2280318006.py:43: DtypeWarning: Columns (0) have mixed types. Specify dtype option on import or set low_memory=False.\n",
      "  stops_time = pd.read_csv(archive.open('stop_times.txt'))\n"
     ]
    },
    {
     "name": "stdout",
     "output_type": "stream",
     "text": [
      "167\n"
     ]
    },
    {
     "name": "stderr",
     "output_type": "stream",
     "text": [
      "C:\\Users\\Kaifa Lu\\AppData\\Local\\Temp\\ipykernel_13148\\2280318006.py:32: DtypeWarning: Columns (2) have mixed types. Specify dtype option on import or set low_memory=False.\n",
      "  trips = pd.read_csv(archive.open('trips.txt'))\n",
      "C:\\Users\\Kaifa Lu\\AppData\\Local\\Temp\\ipykernel_13148\\2280318006.py:43: DtypeWarning: Columns (0) have mixed types. Specify dtype option on import or set low_memory=False.\n",
      "  stops_time = pd.read_csv(archive.open('stop_times.txt'))\n"
     ]
    },
    {
     "name": "stdout",
     "output_type": "stream",
     "text": [
      "168\n"
     ]
    },
    {
     "name": "stderr",
     "output_type": "stream",
     "text": [
      "C:\\Users\\Kaifa Lu\\AppData\\Local\\Temp\\ipykernel_13148\\2280318006.py:32: DtypeWarning: Columns (2) have mixed types. Specify dtype option on import or set low_memory=False.\n",
      "  trips = pd.read_csv(archive.open('trips.txt'))\n",
      "C:\\Users\\Kaifa Lu\\AppData\\Local\\Temp\\ipykernel_13148\\2280318006.py:43: DtypeWarning: Columns (0) have mixed types. Specify dtype option on import or set low_memory=False.\n",
      "  stops_time = pd.read_csv(archive.open('stop_times.txt'))\n"
     ]
    },
    {
     "name": "stdout",
     "output_type": "stream",
     "text": [
      "169\n"
     ]
    },
    {
     "name": "stderr",
     "output_type": "stream",
     "text": [
      "C:\\Users\\Kaifa Lu\\AppData\\Local\\Temp\\ipykernel_13148\\2280318006.py:32: DtypeWarning: Columns (2) have mixed types. Specify dtype option on import or set low_memory=False.\n",
      "  trips = pd.read_csv(archive.open('trips.txt'))\n",
      "C:\\Users\\Kaifa Lu\\AppData\\Local\\Temp\\ipykernel_13148\\2280318006.py:43: DtypeWarning: Columns (0) have mixed types. Specify dtype option on import or set low_memory=False.\n",
      "  stops_time = pd.read_csv(archive.open('stop_times.txt'))\n"
     ]
    },
    {
     "name": "stdout",
     "output_type": "stream",
     "text": [
      "170\n"
     ]
    },
    {
     "name": "stderr",
     "output_type": "stream",
     "text": [
      "C:\\Users\\Kaifa Lu\\AppData\\Local\\Temp\\ipykernel_13148\\2280318006.py:32: DtypeWarning: Columns (2) have mixed types. Specify dtype option on import or set low_memory=False.\n",
      "  trips = pd.read_csv(archive.open('trips.txt'))\n",
      "C:\\Users\\Kaifa Lu\\AppData\\Local\\Temp\\ipykernel_13148\\2280318006.py:43: DtypeWarning: Columns (0) have mixed types. Specify dtype option on import or set low_memory=False.\n",
      "  stops_time = pd.read_csv(archive.open('stop_times.txt'))\n"
     ]
    },
    {
     "name": "stdout",
     "output_type": "stream",
     "text": [
      "171\n"
     ]
    },
    {
     "name": "stderr",
     "output_type": "stream",
     "text": [
      "C:\\Users\\Kaifa Lu\\AppData\\Local\\Temp\\ipykernel_13148\\2280318006.py:32: DtypeWarning: Columns (2) have mixed types. Specify dtype option on import or set low_memory=False.\n",
      "  trips = pd.read_csv(archive.open('trips.txt'))\n",
      "C:\\Users\\Kaifa Lu\\AppData\\Local\\Temp\\ipykernel_13148\\2280318006.py:43: DtypeWarning: Columns (0) have mixed types. Specify dtype option on import or set low_memory=False.\n",
      "  stops_time = pd.read_csv(archive.open('stop_times.txt'))\n"
     ]
    },
    {
     "name": "stdout",
     "output_type": "stream",
     "text": [
      "172\n"
     ]
    },
    {
     "name": "stderr",
     "output_type": "stream",
     "text": [
      "C:\\Users\\Kaifa Lu\\AppData\\Local\\Temp\\ipykernel_13148\\2280318006.py:32: DtypeWarning: Columns (2) have mixed types. Specify dtype option on import or set low_memory=False.\n",
      "  trips = pd.read_csv(archive.open('trips.txt'))\n",
      "C:\\Users\\Kaifa Lu\\AppData\\Local\\Temp\\ipykernel_13148\\2280318006.py:43: DtypeWarning: Columns (0) have mixed types. Specify dtype option on import or set low_memory=False.\n",
      "  stops_time = pd.read_csv(archive.open('stop_times.txt'))\n"
     ]
    },
    {
     "name": "stdout",
     "output_type": "stream",
     "text": [
      "173\n"
     ]
    },
    {
     "name": "stderr",
     "output_type": "stream",
     "text": [
      "C:\\Users\\Kaifa Lu\\AppData\\Local\\Temp\\ipykernel_13148\\2280318006.py:32: DtypeWarning: Columns (2) have mixed types. Specify dtype option on import or set low_memory=False.\n",
      "  trips = pd.read_csv(archive.open('trips.txt'))\n",
      "C:\\Users\\Kaifa Lu\\AppData\\Local\\Temp\\ipykernel_13148\\2280318006.py:43: DtypeWarning: Columns (0) have mixed types. Specify dtype option on import or set low_memory=False.\n",
      "  stops_time = pd.read_csv(archive.open('stop_times.txt'))\n"
     ]
    },
    {
     "name": "stdout",
     "output_type": "stream",
     "text": [
      "174\n"
     ]
    },
    {
     "name": "stderr",
     "output_type": "stream",
     "text": [
      "C:\\Users\\Kaifa Lu\\AppData\\Local\\Temp\\ipykernel_13148\\2280318006.py:32: DtypeWarning: Columns (2) have mixed types. Specify dtype option on import or set low_memory=False.\n",
      "  trips = pd.read_csv(archive.open('trips.txt'))\n",
      "C:\\Users\\Kaifa Lu\\AppData\\Local\\Temp\\ipykernel_13148\\2280318006.py:43: DtypeWarning: Columns (0) have mixed types. Specify dtype option on import or set low_memory=False.\n",
      "  stops_time = pd.read_csv(archive.open('stop_times.txt'))\n"
     ]
    },
    {
     "name": "stdout",
     "output_type": "stream",
     "text": [
      "175\n"
     ]
    },
    {
     "name": "stderr",
     "output_type": "stream",
     "text": [
      "C:\\Users\\Kaifa Lu\\AppData\\Local\\Temp\\ipykernel_13148\\2280318006.py:32: DtypeWarning: Columns (2) have mixed types. Specify dtype option on import or set low_memory=False.\n",
      "  trips = pd.read_csv(archive.open('trips.txt'))\n",
      "C:\\Users\\Kaifa Lu\\AppData\\Local\\Temp\\ipykernel_13148\\2280318006.py:43: DtypeWarning: Columns (0) have mixed types. Specify dtype option on import or set low_memory=False.\n",
      "  stops_time = pd.read_csv(archive.open('stop_times.txt'))\n"
     ]
    },
    {
     "name": "stdout",
     "output_type": "stream",
     "text": [
      "176\n"
     ]
    },
    {
     "name": "stderr",
     "output_type": "stream",
     "text": [
      "C:\\Users\\Kaifa Lu\\AppData\\Local\\Temp\\ipykernel_13148\\2280318006.py:32: DtypeWarning: Columns (2) have mixed types. Specify dtype option on import or set low_memory=False.\n",
      "  trips = pd.read_csv(archive.open('trips.txt'))\n",
      "C:\\Users\\Kaifa Lu\\AppData\\Local\\Temp\\ipykernel_13148\\2280318006.py:43: DtypeWarning: Columns (0) have mixed types. Specify dtype option on import or set low_memory=False.\n",
      "  stops_time = pd.read_csv(archive.open('stop_times.txt'))\n"
     ]
    },
    {
     "name": "stdout",
     "output_type": "stream",
     "text": [
      "177\n"
     ]
    },
    {
     "name": "stderr",
     "output_type": "stream",
     "text": [
      "C:\\Users\\Kaifa Lu\\AppData\\Local\\Temp\\ipykernel_13148\\2280318006.py:32: DtypeWarning: Columns (2) have mixed types. Specify dtype option on import or set low_memory=False.\n",
      "  trips = pd.read_csv(archive.open('trips.txt'))\n",
      "C:\\Users\\Kaifa Lu\\AppData\\Local\\Temp\\ipykernel_13148\\2280318006.py:43: DtypeWarning: Columns (0) have mixed types. Specify dtype option on import or set low_memory=False.\n",
      "  stops_time = pd.read_csv(archive.open('stop_times.txt'))\n"
     ]
    },
    {
     "name": "stdout",
     "output_type": "stream",
     "text": [
      "178\n"
     ]
    },
    {
     "name": "stderr",
     "output_type": "stream",
     "text": [
      "C:\\Users\\Kaifa Lu\\AppData\\Local\\Temp\\ipykernel_13148\\2280318006.py:32: DtypeWarning: Columns (2) have mixed types. Specify dtype option on import or set low_memory=False.\n",
      "  trips = pd.read_csv(archive.open('trips.txt'))\n",
      "C:\\Users\\Kaifa Lu\\AppData\\Local\\Temp\\ipykernel_13148\\2280318006.py:43: DtypeWarning: Columns (0) have mixed types. Specify dtype option on import or set low_memory=False.\n",
      "  stops_time = pd.read_csv(archive.open('stop_times.txt'))\n"
     ]
    },
    {
     "name": "stdout",
     "output_type": "stream",
     "text": [
      "179\n"
     ]
    },
    {
     "name": "stderr",
     "output_type": "stream",
     "text": [
      "C:\\Users\\Kaifa Lu\\AppData\\Local\\Temp\\ipykernel_13148\\2280318006.py:32: DtypeWarning: Columns (2) have mixed types. Specify dtype option on import or set low_memory=False.\n",
      "  trips = pd.read_csv(archive.open('trips.txt'))\n",
      "C:\\Users\\Kaifa Lu\\AppData\\Local\\Temp\\ipykernel_13148\\2280318006.py:43: DtypeWarning: Columns (0) have mixed types. Specify dtype option on import or set low_memory=False.\n",
      "  stops_time = pd.read_csv(archive.open('stop_times.txt'))\n"
     ]
    },
    {
     "name": "stdout",
     "output_type": "stream",
     "text": [
      "180\n"
     ]
    },
    {
     "name": "stderr",
     "output_type": "stream",
     "text": [
      "C:\\Users\\Kaifa Lu\\AppData\\Local\\Temp\\ipykernel_13148\\2280318006.py:32: DtypeWarning: Columns (2) have mixed types. Specify dtype option on import or set low_memory=False.\n",
      "  trips = pd.read_csv(archive.open('trips.txt'))\n",
      "C:\\Users\\Kaifa Lu\\AppData\\Local\\Temp\\ipykernel_13148\\2280318006.py:43: DtypeWarning: Columns (0) have mixed types. Specify dtype option on import or set low_memory=False.\n",
      "  stops_time = pd.read_csv(archive.open('stop_times.txt'))\n"
     ]
    },
    {
     "name": "stdout",
     "output_type": "stream",
     "text": [
      "181\n"
     ]
    },
    {
     "name": "stderr",
     "output_type": "stream",
     "text": [
      "C:\\Users\\Kaifa Lu\\AppData\\Local\\Temp\\ipykernel_13148\\2280318006.py:32: DtypeWarning: Columns (2) have mixed types. Specify dtype option on import or set low_memory=False.\n",
      "  trips = pd.read_csv(archive.open('trips.txt'))\n",
      "C:\\Users\\Kaifa Lu\\AppData\\Local\\Temp\\ipykernel_13148\\2280318006.py:43: DtypeWarning: Columns (0) have mixed types. Specify dtype option on import or set low_memory=False.\n",
      "  stops_time = pd.read_csv(archive.open('stop_times.txt'))\n"
     ]
    },
    {
     "name": "stdout",
     "output_type": "stream",
     "text": [
      "182\n"
     ]
    },
    {
     "name": "stderr",
     "output_type": "stream",
     "text": [
      "C:\\Users\\Kaifa Lu\\AppData\\Local\\Temp\\ipykernel_13148\\2280318006.py:32: DtypeWarning: Columns (2) have mixed types. Specify dtype option on import or set low_memory=False.\n",
      "  trips = pd.read_csv(archive.open('trips.txt'))\n",
      "C:\\Users\\Kaifa Lu\\AppData\\Local\\Temp\\ipykernel_13148\\2280318006.py:43: DtypeWarning: Columns (0) have mixed types. Specify dtype option on import or set low_memory=False.\n",
      "  stops_time = pd.read_csv(archive.open('stop_times.txt'))\n"
     ]
    },
    {
     "name": "stdout",
     "output_type": "stream",
     "text": [
      "183\n"
     ]
    },
    {
     "name": "stderr",
     "output_type": "stream",
     "text": [
      "C:\\Users\\Kaifa Lu\\AppData\\Local\\Temp\\ipykernel_13148\\2280318006.py:32: DtypeWarning: Columns (2) have mixed types. Specify dtype option on import or set low_memory=False.\n",
      "  trips = pd.read_csv(archive.open('trips.txt'))\n",
      "C:\\Users\\Kaifa Lu\\AppData\\Local\\Temp\\ipykernel_13148\\2280318006.py:43: DtypeWarning: Columns (0) have mixed types. Specify dtype option on import or set low_memory=False.\n",
      "  stops_time = pd.read_csv(archive.open('stop_times.txt'))\n"
     ]
    },
    {
     "name": "stdout",
     "output_type": "stream",
     "text": [
      "184\n"
     ]
    },
    {
     "name": "stderr",
     "output_type": "stream",
     "text": [
      "C:\\Users\\Kaifa Lu\\AppData\\Local\\Temp\\ipykernel_13148\\2280318006.py:32: DtypeWarning: Columns (2) have mixed types. Specify dtype option on import or set low_memory=False.\n",
      "  trips = pd.read_csv(archive.open('trips.txt'))\n",
      "C:\\Users\\Kaifa Lu\\AppData\\Local\\Temp\\ipykernel_13148\\2280318006.py:43: DtypeWarning: Columns (0) have mixed types. Specify dtype option on import or set low_memory=False.\n",
      "  stops_time = pd.read_csv(archive.open('stop_times.txt'))\n"
     ]
    },
    {
     "name": "stdout",
     "output_type": "stream",
     "text": [
      "185\n"
     ]
    },
    {
     "name": "stderr",
     "output_type": "stream",
     "text": [
      "C:\\Users\\Kaifa Lu\\AppData\\Local\\Temp\\ipykernel_13148\\2280318006.py:32: DtypeWarning: Columns (2) have mixed types. Specify dtype option on import or set low_memory=False.\n",
      "  trips = pd.read_csv(archive.open('trips.txt'))\n",
      "C:\\Users\\Kaifa Lu\\AppData\\Local\\Temp\\ipykernel_13148\\2280318006.py:43: DtypeWarning: Columns (0) have mixed types. Specify dtype option on import or set low_memory=False.\n",
      "  stops_time = pd.read_csv(archive.open('stop_times.txt'))\n"
     ]
    },
    {
     "name": "stdout",
     "output_type": "stream",
     "text": [
      "186\n"
     ]
    },
    {
     "name": "stderr",
     "output_type": "stream",
     "text": [
      "C:\\Users\\Kaifa Lu\\AppData\\Local\\Temp\\ipykernel_13148\\2280318006.py:32: DtypeWarning: Columns (2) have mixed types. Specify dtype option on import or set low_memory=False.\n",
      "  trips = pd.read_csv(archive.open('trips.txt'))\n",
      "C:\\Users\\Kaifa Lu\\AppData\\Local\\Temp\\ipykernel_13148\\2280318006.py:43: DtypeWarning: Columns (0) have mixed types. Specify dtype option on import or set low_memory=False.\n",
      "  stops_time = pd.read_csv(archive.open('stop_times.txt'))\n"
     ]
    },
    {
     "name": "stdout",
     "output_type": "stream",
     "text": [
      "187\n"
     ]
    },
    {
     "name": "stderr",
     "output_type": "stream",
     "text": [
      "C:\\Users\\Kaifa Lu\\AppData\\Local\\Temp\\ipykernel_13148\\2280318006.py:32: DtypeWarning: Columns (2) have mixed types. Specify dtype option on import or set low_memory=False.\n",
      "  trips = pd.read_csv(archive.open('trips.txt'))\n",
      "C:\\Users\\Kaifa Lu\\AppData\\Local\\Temp\\ipykernel_13148\\2280318006.py:43: DtypeWarning: Columns (0) have mixed types. Specify dtype option on import or set low_memory=False.\n",
      "  stops_time = pd.read_csv(archive.open('stop_times.txt'))\n"
     ]
    },
    {
     "name": "stdout",
     "output_type": "stream",
     "text": [
      "188\n"
     ]
    },
    {
     "name": "stderr",
     "output_type": "stream",
     "text": [
      "C:\\Users\\Kaifa Lu\\AppData\\Local\\Temp\\ipykernel_13148\\2280318006.py:32: DtypeWarning: Columns (2) have mixed types. Specify dtype option on import or set low_memory=False.\n",
      "  trips = pd.read_csv(archive.open('trips.txt'))\n",
      "C:\\Users\\Kaifa Lu\\AppData\\Local\\Temp\\ipykernel_13148\\2280318006.py:43: DtypeWarning: Columns (0) have mixed types. Specify dtype option on import or set low_memory=False.\n",
      "  stops_time = pd.read_csv(archive.open('stop_times.txt'))\n"
     ]
    },
    {
     "name": "stdout",
     "output_type": "stream",
     "text": [
      "189\n"
     ]
    },
    {
     "name": "stderr",
     "output_type": "stream",
     "text": [
      "C:\\Users\\Kaifa Lu\\AppData\\Local\\Temp\\ipykernel_13148\\2280318006.py:32: DtypeWarning: Columns (2) have mixed types. Specify dtype option on import or set low_memory=False.\n",
      "  trips = pd.read_csv(archive.open('trips.txt'))\n",
      "C:\\Users\\Kaifa Lu\\AppData\\Local\\Temp\\ipykernel_13148\\2280318006.py:43: DtypeWarning: Columns (0) have mixed types. Specify dtype option on import or set low_memory=False.\n",
      "  stops_time = pd.read_csv(archive.open('stop_times.txt'))\n"
     ]
    },
    {
     "name": "stdout",
     "output_type": "stream",
     "text": [
      "190\n"
     ]
    },
    {
     "name": "stderr",
     "output_type": "stream",
     "text": [
      "C:\\Users\\Kaifa Lu\\AppData\\Local\\Temp\\ipykernel_13148\\2280318006.py:32: DtypeWarning: Columns (2) have mixed types. Specify dtype option on import or set low_memory=False.\n",
      "  trips = pd.read_csv(archive.open('trips.txt'))\n",
      "C:\\Users\\Kaifa Lu\\AppData\\Local\\Temp\\ipykernel_13148\\2280318006.py:43: DtypeWarning: Columns (0) have mixed types. Specify dtype option on import or set low_memory=False.\n",
      "  stops_time = pd.read_csv(archive.open('stop_times.txt'))\n"
     ]
    },
    {
     "name": "stdout",
     "output_type": "stream",
     "text": [
      "191\n"
     ]
    },
    {
     "name": "stderr",
     "output_type": "stream",
     "text": [
      "C:\\Users\\Kaifa Lu\\AppData\\Local\\Temp\\ipykernel_13148\\2280318006.py:32: DtypeWarning: Columns (2) have mixed types. Specify dtype option on import or set low_memory=False.\n",
      "  trips = pd.read_csv(archive.open('trips.txt'))\n",
      "C:\\Users\\Kaifa Lu\\AppData\\Local\\Temp\\ipykernel_13148\\2280318006.py:43: DtypeWarning: Columns (0) have mixed types. Specify dtype option on import or set low_memory=False.\n",
      "  stops_time = pd.read_csv(archive.open('stop_times.txt'))\n"
     ]
    },
    {
     "name": "stdout",
     "output_type": "stream",
     "text": [
      "192\n"
     ]
    },
    {
     "name": "stderr",
     "output_type": "stream",
     "text": [
      "C:\\Users\\Kaifa Lu\\AppData\\Local\\Temp\\ipykernel_13148\\2280318006.py:32: DtypeWarning: Columns (2) have mixed types. Specify dtype option on import or set low_memory=False.\n",
      "  trips = pd.read_csv(archive.open('trips.txt'))\n",
      "C:\\Users\\Kaifa Lu\\AppData\\Local\\Temp\\ipykernel_13148\\2280318006.py:43: DtypeWarning: Columns (0) have mixed types. Specify dtype option on import or set low_memory=False.\n",
      "  stops_time = pd.read_csv(archive.open('stop_times.txt'))\n"
     ]
    },
    {
     "name": "stdout",
     "output_type": "stream",
     "text": [
      "193\n"
     ]
    },
    {
     "name": "stderr",
     "output_type": "stream",
     "text": [
      "C:\\Users\\Kaifa Lu\\AppData\\Local\\Temp\\ipykernel_13148\\2280318006.py:32: DtypeWarning: Columns (2) have mixed types. Specify dtype option on import or set low_memory=False.\n",
      "  trips = pd.read_csv(archive.open('trips.txt'))\n",
      "C:\\Users\\Kaifa Lu\\AppData\\Local\\Temp\\ipykernel_13148\\2280318006.py:43: DtypeWarning: Columns (0) have mixed types. Specify dtype option on import or set low_memory=False.\n",
      "  stops_time = pd.read_csv(archive.open('stop_times.txt'))\n"
     ]
    },
    {
     "name": "stdout",
     "output_type": "stream",
     "text": [
      "194\n"
     ]
    },
    {
     "name": "stderr",
     "output_type": "stream",
     "text": [
      "C:\\Users\\Kaifa Lu\\AppData\\Local\\Temp\\ipykernel_13148\\2280318006.py:32: DtypeWarning: Columns (2) have mixed types. Specify dtype option on import or set low_memory=False.\n",
      "  trips = pd.read_csv(archive.open('trips.txt'))\n",
      "C:\\Users\\Kaifa Lu\\AppData\\Local\\Temp\\ipykernel_13148\\2280318006.py:43: DtypeWarning: Columns (0) have mixed types. Specify dtype option on import or set low_memory=False.\n",
      "  stops_time = pd.read_csv(archive.open('stop_times.txt'))\n"
     ]
    },
    {
     "name": "stdout",
     "output_type": "stream",
     "text": [
      "195\n"
     ]
    },
    {
     "name": "stderr",
     "output_type": "stream",
     "text": [
      "C:\\Users\\Kaifa Lu\\AppData\\Local\\Temp\\ipykernel_13148\\2280318006.py:32: DtypeWarning: Columns (2) have mixed types. Specify dtype option on import or set low_memory=False.\n",
      "  trips = pd.read_csv(archive.open('trips.txt'))\n",
      "C:\\Users\\Kaifa Lu\\AppData\\Local\\Temp\\ipykernel_13148\\2280318006.py:43: DtypeWarning: Columns (0) have mixed types. Specify dtype option on import or set low_memory=False.\n",
      "  stops_time = pd.read_csv(archive.open('stop_times.txt'))\n"
     ]
    },
    {
     "name": "stdout",
     "output_type": "stream",
     "text": [
      "196\n"
     ]
    },
    {
     "name": "stderr",
     "output_type": "stream",
     "text": [
      "C:\\Users\\Kaifa Lu\\AppData\\Local\\Temp\\ipykernel_13148\\2280318006.py:32: DtypeWarning: Columns (2) have mixed types. Specify dtype option on import or set low_memory=False.\n",
      "  trips = pd.read_csv(archive.open('trips.txt'))\n",
      "C:\\Users\\Kaifa Lu\\AppData\\Local\\Temp\\ipykernel_13148\\2280318006.py:43: DtypeWarning: Columns (0) have mixed types. Specify dtype option on import or set low_memory=False.\n",
      "  stops_time = pd.read_csv(archive.open('stop_times.txt'))\n"
     ]
    },
    {
     "name": "stdout",
     "output_type": "stream",
     "text": [
      "197\n"
     ]
    },
    {
     "name": "stderr",
     "output_type": "stream",
     "text": [
      "C:\\Users\\Kaifa Lu\\AppData\\Local\\Temp\\ipykernel_13148\\2280318006.py:32: DtypeWarning: Columns (2) have mixed types. Specify dtype option on import or set low_memory=False.\n",
      "  trips = pd.read_csv(archive.open('trips.txt'))\n",
      "C:\\Users\\Kaifa Lu\\AppData\\Local\\Temp\\ipykernel_13148\\2280318006.py:43: DtypeWarning: Columns (0) have mixed types. Specify dtype option on import or set low_memory=False.\n",
      "  stops_time = pd.read_csv(archive.open('stop_times.txt'))\n"
     ]
    },
    {
     "name": "stdout",
     "output_type": "stream",
     "text": [
      "198\n"
     ]
    },
    {
     "name": "stderr",
     "output_type": "stream",
     "text": [
      "C:\\Users\\Kaifa Lu\\AppData\\Local\\Temp\\ipykernel_13148\\2280318006.py:32: DtypeWarning: Columns (2) have mixed types. Specify dtype option on import or set low_memory=False.\n",
      "  trips = pd.read_csv(archive.open('trips.txt'))\n",
      "C:\\Users\\Kaifa Lu\\AppData\\Local\\Temp\\ipykernel_13148\\2280318006.py:43: DtypeWarning: Columns (0) have mixed types. Specify dtype option on import or set low_memory=False.\n",
      "  stops_time = pd.read_csv(archive.open('stop_times.txt'))\n"
     ]
    },
    {
     "name": "stdout",
     "output_type": "stream",
     "text": [
      "199\n"
     ]
    },
    {
     "name": "stderr",
     "output_type": "stream",
     "text": [
      "C:\\Users\\Kaifa Lu\\AppData\\Local\\Temp\\ipykernel_13148\\2280318006.py:32: DtypeWarning: Columns (2) have mixed types. Specify dtype option on import or set low_memory=False.\n",
      "  trips = pd.read_csv(archive.open('trips.txt'))\n",
      "C:\\Users\\Kaifa Lu\\AppData\\Local\\Temp\\ipykernel_13148\\2280318006.py:43: DtypeWarning: Columns (0) have mixed types. Specify dtype option on import or set low_memory=False.\n",
      "  stops_time = pd.read_csv(archive.open('stop_times.txt'))\n"
     ]
    },
    {
     "name": "stdout",
     "output_type": "stream",
     "text": [
      "200\n"
     ]
    },
    {
     "name": "stderr",
     "output_type": "stream",
     "text": [
      "C:\\Users\\Kaifa Lu\\AppData\\Local\\Temp\\ipykernel_13148\\2280318006.py:32: DtypeWarning: Columns (2) have mixed types. Specify dtype option on import or set low_memory=False.\n",
      "  trips = pd.read_csv(archive.open('trips.txt'))\n",
      "C:\\Users\\Kaifa Lu\\AppData\\Local\\Temp\\ipykernel_13148\\2280318006.py:43: DtypeWarning: Columns (0) have mixed types. Specify dtype option on import or set low_memory=False.\n",
      "  stops_time = pd.read_csv(archive.open('stop_times.txt'))\n"
     ]
    },
    {
     "name": "stdout",
     "output_type": "stream",
     "text": [
      "201\n"
     ]
    },
    {
     "name": "stderr",
     "output_type": "stream",
     "text": [
      "C:\\Users\\Kaifa Lu\\AppData\\Local\\Temp\\ipykernel_13148\\2280318006.py:32: DtypeWarning: Columns (2) have mixed types. Specify dtype option on import or set low_memory=False.\n",
      "  trips = pd.read_csv(archive.open('trips.txt'))\n",
      "C:\\Users\\Kaifa Lu\\AppData\\Local\\Temp\\ipykernel_13148\\2280318006.py:43: DtypeWarning: Columns (0) have mixed types. Specify dtype option on import or set low_memory=False.\n",
      "  stops_time = pd.read_csv(archive.open('stop_times.txt'))\n"
     ]
    },
    {
     "name": "stdout",
     "output_type": "stream",
     "text": [
      "202\n"
     ]
    },
    {
     "name": "stderr",
     "output_type": "stream",
     "text": [
      "C:\\Users\\Kaifa Lu\\AppData\\Local\\Temp\\ipykernel_13148\\2280318006.py:32: DtypeWarning: Columns (2) have mixed types. Specify dtype option on import or set low_memory=False.\n",
      "  trips = pd.read_csv(archive.open('trips.txt'))\n",
      "C:\\Users\\Kaifa Lu\\AppData\\Local\\Temp\\ipykernel_13148\\2280318006.py:43: DtypeWarning: Columns (0) have mixed types. Specify dtype option on import or set low_memory=False.\n",
      "  stops_time = pd.read_csv(archive.open('stop_times.txt'))\n"
     ]
    },
    {
     "name": "stdout",
     "output_type": "stream",
     "text": [
      "203\n"
     ]
    },
    {
     "name": "stderr",
     "output_type": "stream",
     "text": [
      "C:\\Users\\Kaifa Lu\\AppData\\Local\\Temp\\ipykernel_13148\\2280318006.py:32: DtypeWarning: Columns (2) have mixed types. Specify dtype option on import or set low_memory=False.\n",
      "  trips = pd.read_csv(archive.open('trips.txt'))\n",
      "C:\\Users\\Kaifa Lu\\AppData\\Local\\Temp\\ipykernel_13148\\2280318006.py:43: DtypeWarning: Columns (0) have mixed types. Specify dtype option on import or set low_memory=False.\n",
      "  stops_time = pd.read_csv(archive.open('stop_times.txt'))\n"
     ]
    },
    {
     "name": "stdout",
     "output_type": "stream",
     "text": [
      "204\n"
     ]
    },
    {
     "name": "stderr",
     "output_type": "stream",
     "text": [
      "C:\\Users\\Kaifa Lu\\AppData\\Local\\Temp\\ipykernel_13148\\2280318006.py:32: DtypeWarning: Columns (2) have mixed types. Specify dtype option on import or set low_memory=False.\n",
      "  trips = pd.read_csv(archive.open('trips.txt'))\n",
      "C:\\Users\\Kaifa Lu\\AppData\\Local\\Temp\\ipykernel_13148\\2280318006.py:43: DtypeWarning: Columns (0) have mixed types. Specify dtype option on import or set low_memory=False.\n",
      "  stops_time = pd.read_csv(archive.open('stop_times.txt'))\n"
     ]
    },
    {
     "name": "stdout",
     "output_type": "stream",
     "text": [
      "205\n",
      "206\n",
      "207\n",
      "208\n",
      "209\n",
      "210\n",
      "211\n",
      "212\n",
      "213\n",
      "214\n",
      "215\n",
      "216\n",
      "217\n",
      "218\n",
      "219\n",
      "220\n",
      "221\n",
      "222\n",
      "223\n",
      "224\n",
      "225\n",
      "226\n",
      "227\n",
      "228\n",
      "229\n",
      "230\n",
      "139423475\n"
     ]
    },
    {
     "data": {
      "text/html": [
       "<div>\n",
       "<style scoped>\n",
       "    .dataframe tbody tr th:only-of-type {\n",
       "        vertical-align: middle;\n",
       "    }\n",
       "\n",
       "    .dataframe tbody tr th {\n",
       "        vertical-align: top;\n",
       "    }\n",
       "\n",
       "    .dataframe thead th {\n",
       "        text-align: right;\n",
       "    }\n",
       "</style>\n",
       "<table border=\"1\" class=\"dataframe\">\n",
       "  <thead>\n",
       "    <tr style=\"text-align: right;\">\n",
       "      <th></th>\n",
       "      <th>arrival_time</th>\n",
       "      <th>departure_time</th>\n",
       "      <th>stop_id</th>\n",
       "      <th>stop_lat</th>\n",
       "      <th>stop_lon</th>\n",
       "      <th>geometry</th>\n",
       "    </tr>\n",
       "  </thead>\n",
       "  <tbody>\n",
       "    <tr>\n",
       "      <th>0</th>\n",
       "      <td>2019-07-23 07:24:00</td>\n",
       "      <td>2019-07-23 07:24:00</td>\n",
       "      <td>5660</td>\n",
       "      <td>38.947849</td>\n",
       "      <td>-77.079299</td>\n",
       "      <td>POINT (-77.079299 38.947849)</td>\n",
       "    </tr>\n",
       "    <tr>\n",
       "      <th>1</th>\n",
       "      <td>2019-07-23 07:27:00</td>\n",
       "      <td>2019-07-23 07:27:00</td>\n",
       "      <td>4941</td>\n",
       "      <td>38.944519</td>\n",
       "      <td>-77.063716</td>\n",
       "      <td>POINT (-77.063716 38.944519)</td>\n",
       "    </tr>\n",
       "    <tr>\n",
       "      <th>2</th>\n",
       "      <td>2019-07-23 07:29:00</td>\n",
       "      <td>2019-07-23 07:29:00</td>\n",
       "      <td>4912</td>\n",
       "      <td>38.935852</td>\n",
       "      <td>-77.058624</td>\n",
       "      <td>POINT (-77.058624 38.935852)</td>\n",
       "    </tr>\n",
       "    <tr>\n",
       "      <th>3</th>\n",
       "      <td>2019-07-23 07:31:00</td>\n",
       "      <td>2019-07-23 07:31:00</td>\n",
       "      <td>4905</td>\n",
       "      <td>38.925000</td>\n",
       "      <td>-77.052350</td>\n",
       "      <td>POINT (-77.05235 38.925)</td>\n",
       "    </tr>\n",
       "    <tr>\n",
       "      <th>4</th>\n",
       "      <td>2019-07-23 07:33:00</td>\n",
       "      <td>2019-07-23 07:33:00</td>\n",
       "      <td>4956</td>\n",
       "      <td>38.911129</td>\n",
       "      <td>-77.044428</td>\n",
       "      <td>POINT (-77.044428 38.911129)</td>\n",
       "    </tr>\n",
       "  </tbody>\n",
       "</table>\n",
       "</div>"
      ],
      "text/plain": [
       "         arrival_time      departure_time  stop_id   stop_lat   stop_lon  \\\n",
       "0 2019-07-23 07:24:00 2019-07-23 07:24:00     5660  38.947849 -77.079299   \n",
       "1 2019-07-23 07:27:00 2019-07-23 07:27:00     4941  38.944519 -77.063716   \n",
       "2 2019-07-23 07:29:00 2019-07-23 07:29:00     4912  38.935852 -77.058624   \n",
       "3 2019-07-23 07:31:00 2019-07-23 07:31:00     4905  38.925000 -77.052350   \n",
       "4 2019-07-23 07:33:00 2019-07-23 07:33:00     4956  38.911129 -77.044428   \n",
       "\n",
       "                       geometry  \n",
       "0  POINT (-77.079299 38.947849)  \n",
       "1  POINT (-77.063716 38.944519)  \n",
       "2  POINT (-77.058624 38.935852)  \n",
       "3      POINT (-77.05235 38.925)  \n",
       "4  POINT (-77.044428 38.911129)  "
      ]
     },
     "execution_count": 2,
     "metadata": {},
     "output_type": "execute_result"
    }
   ],
   "source": [
    "# Open the zip file in read-only mode.\n",
    "\n",
    "DC_boundary = gpd.read_file('Data/Shapefile/Washington_DC_Boundary.geojson')\n",
    "\n",
    "def update_datetime(row):\n",
    "    if int(row[11:13]) >= 24:\n",
    "        return datetime.strptime(row[:11] + str(int(row[11:13])%24) + row[13:], '%Y-%m-%d %H:%M:%S') + timedelta(days = int(row[11:13])//24) # Increment the day\n",
    "    else:\n",
    "        return datetime.strptime(row, '%Y-%m-%d %H:%M:%S')\n",
    "\n",
    "directory = \"Data/GTFS/\"\n",
    "file_paths = []\n",
    "# crawling through directory and subdirectories\n",
    "for root, directories, files in os.walk(directory):\n",
    "    for filename in files:\n",
    "        # join the two strings in order to form the full filepath.\n",
    "        filepath = os.path.join(root, filename)\n",
    "        file_paths.append(filepath)\n",
    "\n",
    "date_list = []\n",
    "for i in range (len(file_paths)):\n",
    "    # Extract the date from the file name\n",
    "    date_str = os.path.splitext(os.path.basename(file_paths[i]))[0].split('_')[1]\n",
    "    # Convert the date string to datetime object\n",
    "    date_obj = datetime.strptime(date_str, '%Y%m%d')\n",
    "    # Format the datetime object as 'YYYY-MM-DD'\n",
    "    date_list.append(date_obj.strftime('%Y-%m-%d') + ' ')\n",
    "\n",
    "transit_stops_info = []\n",
    "for i in range (154, 231):\n",
    "    archive = ZipFile(file_paths[i], \"r\")\n",
    "    trips = pd.read_csv(archive.open('trips.txt'))\n",
    "    stops = pd.read_csv(archive.open('stops.txt'))\n",
    "    ## add geometry for stops\n",
    "    stops['geometry'] = stops[['stop_lon', 'stop_lat']].values.tolist()\n",
    "    stops['geometry'] = stops['geometry'].apply(Point)\n",
    "    # select stops within DC\n",
    "    DC_stop_index = []\n",
    "    for j in range (len(stops)):\n",
    "        if stops.geometry[j].within(DC_boundary.geometry[0]):\n",
    "            DC_stop_index.append(j)\n",
    "    stops = stops.loc[DC_stop_index]\n",
    "    stops_time = pd.read_csv(archive.open('stop_times.txt'))\n",
    "    ## merge\n",
    "    transit_stops_time = stops_time.merge(stops, how = 'left', on = \"stop_id\")\n",
    "    transit_stops_time = transit_stops_time.merge(trips, how = 'left', on = \"trip_id\")\n",
    "    # select trip id within DC\n",
    "    transit_stops_time = transit_stops_time.iloc[np.isin(transit_stops_time['stop_id'], stops.stop_id.unique())]\n",
    "    # delete unnecessary columns\n",
    "    transit_stops_time = transit_stops_time.drop(columns = {\"trip_id\", \"stop_sequence\", \"pickup_type\", \"drop_off_type\", \"shape_dist_traveled\", \"route_id\", \"service_id\", \"stop_code\", \"stop_desc\", \"stop_name\", \"zone_id\", \"block_id\", \"scheduled_trip_id\", \"trip_headsign\", \"direction_id\", \"shape_id\"}, axis = 1)\n",
    "    # add date information for the dataframe\n",
    "    transit_stops_time.arrival_time = date_list[i] + transit_stops_time.arrival_time\n",
    "    transit_stops_time.departure_time = date_list[i] + transit_stops_time.departure_time\n",
    "    transit_stops_info.append(transit_stops_time)\n",
    "    print(i)\n",
    "\n",
    "transit_stops_info = pd.concat(transit_stops_info, ignore_index = True)\n",
    "transit_stops_info[\"arrival_time\"] = transit_stops_info[\"arrival_time\"].apply(update_datetime)\n",
    "transit_stops_info[\"arrival_time\"] = pd.to_datetime(transit_stops_info[\"arrival_time\"])\n",
    "transit_stops_info[\"departure_time\"] = transit_stops_info[\"departure_time\"].apply(update_datetime)\n",
    "transit_stops_info[\"departure_time\"] = pd.to_datetime(transit_stops_info[\"departure_time\"])\n",
    "print(len(transit_stops_info))\n",
    "transit_stops_info.head()"
   ]
  },
  {
   "cell_type": "code",
   "execution_count": 3,
   "id": "8cfdf0d6",
   "metadata": {},
   "outputs": [],
   "source": [
    "transit_stops_info.to_csv(\"Data/transit_stops_info_part3.csv\", index = False)"
   ]
  }
 ],
 "metadata": {
  "kernelspec": {
   "display_name": "Python 3 (ipykernel)",
   "language": "python",
   "name": "python3"
  },
  "language_info": {
   "codemirror_mode": {
    "name": "ipython",
    "version": 3
   },
   "file_extension": ".py",
   "mimetype": "text/x-python",
   "name": "python",
   "nbconvert_exporter": "python",
   "pygments_lexer": "ipython3",
   "version": "3.9.12"
  }
 },
 "nbformat": 4,
 "nbformat_minor": 5
}
